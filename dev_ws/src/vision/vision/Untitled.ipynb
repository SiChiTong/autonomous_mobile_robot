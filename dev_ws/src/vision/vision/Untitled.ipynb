{
 "cells": [
  {
   "cell_type": "code",
   "execution_count": null,
   "id": "dcbac178-6bef-4a52-8c23-a509ead41fae",
   "metadata": {},
   "outputs": [],
   "source": [
    "# Find average line left and right\n",
    "            if(len(lines_left)>0):\n",
    "                # m_avg_left = np.average(lines_left[:,0])\n",
    "                m_avg_left = -abs(math.tan(np.average(lines_left[:,0])))\n",
    "                x2_left = np.average(lines_left[:,4])\n",
    "                print('x2_left: {}'.format(x2_left))\n",
    "                if x2_left > 0 and x2_left < WIDTH:\n",
    "                    y2_left = HEIGHT\n",
    "                else:\n",
    "                    x2_left = WIDTH\n",
    "                    y2_left = np.average(lines_right[:,5])\n",
    "\n",
    "                # b_avg_left = np.average(lines_left[:,1])\n",
    "                b_avg_left = y2_left - m_avg_left*x2_left\n",
    "\n",
    "                y1_left = np.amin(lines_left[:,3])\n",
    "                x1_left = (y1_left - b_avg_left) / m_avg_left\n",
    "                \n",
    "                    \n",
    "                if (len(lines_right) > 0): # both lines are found\n",
    "\n",
    "                    # m_avg_right = np.average(lines_right[:,0])\n",
    "                    m_avg_right = -abs(math.tan(np.average(lines_right[:,0])))\n",
    "                    x2_right = np.average(lines_right[:,4])\n",
    "                    print('x2_right: {}'.format(x2_left))\n",
    "\n",
    "                    if x2_right > 0 and x2_right < WIDTH:\n",
    "                        y2_right = HEIGHT\n",
    "                    else:\n",
    "                        x2_right = WIDTH\n",
    "                        y2_right = np.average(lines_right[:,5])\n",
    "\n",
    "                    # b_avg_right = np.average(lines_right[:,1])\n",
    "                    b_avg_right = y2_right - m_avg_right*x2_right\n",
    "                    y1_right = np.amin(lines_right[:,3])\n",
    "                    x1_right = (y1_right - b_avg_right) / m_avg_right\n",
    "                    # x2_right = (HEIGHT-b_avg_right) / m_avg_right\n",
    "                    # if x2_right > 0 and x2_left < WIDTH:\n",
    "                    #     y2_right = HEIGHT\n",
    "                    # else:\n",
    "                    #     x2_right = 0\n",
    "                    #     y2_right = b_avg_right"
   ]
  }
 ],
 "metadata": {
  "kernelspec": {
   "display_name": "Python 3",
   "language": "python",
   "name": "python3"
  },
  "language_info": {
   "codemirror_mode": {
    "name": "ipython",
    "version": 3
   },
   "file_extension": ".py",
   "mimetype": "text/x-python",
   "name": "python",
   "nbconvert_exporter": "python",
   "pygments_lexer": "ipython3",
   "version": "3.6.9"
  }
 },
 "nbformat": 4,
 "nbformat_minor": 5
}
